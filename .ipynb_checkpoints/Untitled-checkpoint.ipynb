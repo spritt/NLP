{
 "cells": [
  {
   "cell_type": "code",
   "execution_count": 3,
   "metadata": {
    "collapsed": false
   },
   "outputs": [],
   "source": [
    "import json\n",
    "import numpy as np\n",
    "import pandas as pd\n",
    "import random\n",
    "import scipy.stats as stats\n",
    "\n",
    "from sklearn.metrics import zero_one_loss\n",
    "from sklearn.feature_extraction.text import CountVectorizer\n",
    "from sklearn.cross_validation import StratifiedKFold\n",
    "\n",
    "#with open('yelp_academic_dataset_review_mini.json') as f:\n",
    "#    reviews = [json.loads(line) for line in f]\n",
    "with open('yelp_academic_dataset_review_mini.json', 'rb') as f:\n",
    "    reviews = f.readlines()\n",
    "data_json_sep = map(lambda x: x.rstrip(), reviews)\n",
    "data_json = \"[\" + ','.join(data_json_sep) + \"]\"\n",
    "data = pd.read_json(data_json)\n",
    "\n",
    "stars = data['stars']\n",
    "text = data['text']"
   ]
  },
  {
   "cell_type": "code",
   "execution_count": 50,
   "metadata": {
    "collapsed": false
   },
   "outputs": [
    {
     "data": {
      "text/plain": [
       "(85,)"
      ]
     },
     "execution_count": 50,
     "metadata": {},
     "output_type": "execute_result"
    }
   ],
   "source": [
    "import nltk\n",
    "def tokenize(text):\n",
    "    # remove non letters\n",
    "    text = re.sub(\"[^a-zA-Z]\", \" \", text)\n",
    "    # tokenize\n",
    "    tokens = nltk.word_tokenize(text)\n",
    "    return tokens\n",
    "\n",
    "basic_vectorizer = CountVectorizer(min_df=1, tokenizer=tokenize, stop_words='english', max_features=85)\n",
    "vector = basic_vectorizer.fit_transform(text).toarray()\n",
    "vector[0].shape"
   ]
  },
  {
   "cell_type": "code",
   "execution_count": 51,
   "metadata": {
    "collapsed": false
   },
   "outputs": [],
   "source": [
    "size = vector.shape[0]\n",
    "\n",
    "test_idx = np.array(random.sample(range(0,size), size/10))\n",
    "xtest = vector[test_idx]\n",
    "xtrain = vector[[i for i in range(0,size) if i not in test_idx]]\n",
    "ytest = stars[test_idx]\n",
    "ytrain = stars[[i for i in range(0,size) if i not in test_idx]]"
   ]
  },
  {
   "cell_type": "code",
   "execution_count": 38,
   "metadata": {
    "collapsed": false
   },
   "outputs": [
    {
     "name": "stdout",
     "output_type": "stream",
     "text": [
      "60.5794147708\n"
     ]
    }
   ],
   "source": [
    "from sklearn.naive_bayes import GaussianNB\n",
    "from sklearn.cross_validation import StratifiedKFold\n",
    "\n",
    "gnb = GaussianNB()\n",
    "k=2\n",
    "skf = StratifiedKFold(stars,n_folds=k)\n",
    "averageError = 0.0\n",
    "for train_index, test_index in skf:\n",
    "    xtrain, xtest = vector[train_index], vector[test_index]\n",
    "    ytrain, ytest = stars[train_index], stars[test_index]\n",
    "    gnb.fit(xtrain, ytrain)\n",
    "    pred = gnb.predict(xtest)\n",
    "    err = zero_one_loss(pred, ytest)\n",
    "    averageError += (1./k) * err\n",
    "print 100 * averageError"
   ]
  },
  {
   "cell_type": "code",
   "execution_count": 52,
   "metadata": {
    "collapsed": false
   },
   "outputs": [
    {
     "data": {
      "text/plain": [
       "0.55800000000000005"
      ]
     },
     "execution_count": 52,
     "metadata": {},
     "output_type": "execute_result"
    }
   ],
   "source": [
    "gnb.fit(xtrain, ytrain)\n",
    "pred = gnb.predict(xtest)\n",
    "err = zero_one_loss(pred, ytest)\n",
    "err"
   ]
  },
  {
   "cell_type": "code",
   "execution_count": 54,
   "metadata": {
    "collapsed": false
   },
   "outputs": [
    {
     "data": {
      "text/plain": [
       "0.52400000000000002"
      ]
     },
     "execution_count": 54,
     "metadata": {},
     "output_type": "execute_result"
    }
   ],
   "source": [
    "from sklearn.svm import SVC\n",
    "from sklearn.grid_search import GridSearchCV\n",
    "\n",
    "mod = SVC()\n",
    "parameters = {'kernel':('linear', 'rbf'), 'C':[1, 10]}\n",
    "svm = GridSearchCV(mod, parameters)\n",
    "svm.fit(xtrain, ytrain)\n",
    "\n",
    "pred = svm.predict(xtest)\n",
    "err = zero_one_loss(pred, ytest)\n",
    "err"
   ]
  },
  {
   "cell_type": "code",
   "execution_count": null,
   "metadata": {
    "collapsed": true
   },
   "outputs": [],
   "source": []
  }
 ],
 "metadata": {
  "kernelspec": {
   "display_name": "Python 2",
   "language": "python",
   "name": "python2"
  },
  "language_info": {
   "codemirror_mode": {
    "name": "ipython",
    "version": 2
   },
   "file_extension": ".py",
   "mimetype": "text/x-python",
   "name": "python",
   "nbconvert_exporter": "python",
   "pygments_lexer": "ipython2",
   "version": "2.7.11"
  }
 },
 "nbformat": 4,
 "nbformat_minor": 0
}
