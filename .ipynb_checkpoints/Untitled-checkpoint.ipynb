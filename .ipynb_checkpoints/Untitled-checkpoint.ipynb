{
 "cells": [
  {
   "cell_type": "code",
   "execution_count": 22,
   "metadata": {
    "collapsed": false
   },
   "outputs": [],
   "source": [
    "import json\n",
    "import numpy as np\n",
    "import pandas as pd\n",
    "import random\n",
    "import scipy.stats as stats\n",
    "\n",
    "from sklearn.metrics import zero_one_loss\n",
    "from sklearn.feature_extraction.text import CountVectorizer\n",
    "from sklearn.cross_validation import StratifiedKFold\n",
    "from sklearn.decomposition import LatentDirichletAllocation\n",
    "\n",
    "#with open('yelp_academic_dataset_review_mini.json') as f:\n",
    "#    reviews = [json.loads(line) for line in f]\n",
    "with open('yelp_academic_dataset_review_mini.json', 'rb') as f:\n",
    "    reviews = f.readlines()\n",
    "data_json_sep = map(lambda x: x.rstrip(), reviews)\n",
    "data_json = \"[\" + ','.join(data_json_sep) + \"]\"\n",
    "data = pd.read_json(data_json)\n",
    "\n",
    "stars = data['stars'].apply(lambda x: 1 if x < 3 else 2 if x == 3 else 3)\n",
    "text = data['text']"
   ]
  },
  {
   "cell_type": "code",
   "execution_count": 29,
   "metadata": {
    "collapsed": true
   },
   "outputs": [],
   "source": [
    "def RMSE(pre, act):\n",
    "    return np.sqrt(((pre - act) ** 2).mean())\n",
    "\n",
    "def rSquared(pre, act):\n",
    "    return 1 - sum((pre - act)**2) / sum((act - act.mean())**2)"
   ]
  },
  {
   "cell_type": "code",
   "execution_count": 11,
   "metadata": {
    "collapsed": false
   },
   "outputs": [
    {
     "name": "stdout",
     "output_type": "stream",
     "text": [
      "(5000, 500)\n"
     ]
    }
   ],
   "source": [
    "import nltk, re\n",
    "def tokenize(text):\n",
    "    # remove non letters\n",
    "    text = re.sub(\"[^a-zA-Z\\s]\", \"\", text)\n",
    "    # tokenize\n",
    "    tokens = nltk.word_tokenize(text)\n",
    "    return tokens\n",
    "\n",
    "basic_vectorizer = CountVectorizer(min_df=2, max_df=0.7, ngram_range=(1, 1), tokenizer=tokenize, stop_words='english', max_features=500)\n",
    "vector = basic_vectorizer.fit_transform(text).toarray()\n",
    "print vector.shape"
   ]
  },
  {
   "cell_type": "code",
   "execution_count": 65,
   "metadata": {
    "collapsed": false
   },
   "outputs": [
    {
     "name": "stdout",
     "output_type": "stream",
     "text": [
      "Topic #0:\n",
      "pizza cheese sauce good cream ordered like chicken bread delicious ice just really cooked crust dish pasta cake order tasted\n",
      "\n",
      "Topic #1:\n",
      "park nice just price like good free hot shop size extra work offer new know red dont real quiet meat\n",
      "\n",
      "Topic #2:\n",
      "food people like place dont want good staff know review friendly great wont make youre priced think wish service lot\n",
      "\n",
      "Topic #3:\n",
      "place best pittsburgh hot ive dog food great favorite just dogs fries time good restaurant amazing dont order pancakes years\n",
      "\n",
      "Topic #4:\n",
      "love great pittsburgh really place foods store selection museum lot prices im parking like art items steelers nice good staff\n",
      "\n",
      "Topic #5:\n",
      "good food great beer place service bar pretty nice menu selection atmosphere really like night delicious just definitely friendly dinner\n",
      "\n",
      "Topic #6:\n",
      "ordered came got table minutes time restaurant food did didnt order took waitress service went meal server dinner just wasnt\n",
      "\n",
      "Topic #7:\n",
      "car service just time store work shop great customer im new like did experience dont location needed say said ive\n",
      "\n",
      "Topic #8:\n",
      "just time place didnt going day went night like ive got did called know really dont times told pretty good\n",
      "\n",
      "Topic #9:\n",
      "breakfast coffee pancakes like eggs brunch toast place im diner good wait french food little youre sausage really worth park\n",
      "\n"
     ]
    }
   ],
   "source": [
    "lda = LatentDirichletAllocation(n_topics=10, max_iter=5,\n",
    "                                learning_method='online', learning_offset=50.,\n",
    "                                random_state=0)\n",
    "lda.fit(vector)\n",
    "feature_names = basic_vectorizer.get_feature_names()\n",
    "\n",
    "for topic_idx, topic in enumerate(lda.components_):\n",
    "    print(\"Topic #%d:\" % topic_idx)\n",
    "    print(\" \".join([feature_names[i]\n",
    "                    for i in topic.argsort()[:-20 - 1:-1]]))\n",
    "    print \"\""
   ]
  },
  {
   "cell_type": "code",
   "execution_count": 23,
   "metadata": {
    "collapsed": false
   },
   "outputs": [],
   "source": [
    "features = vector"
   ]
  },
  {
   "cell_type": "code",
   "execution_count": 25,
   "metadata": {
    "collapsed": false
   },
   "outputs": [
    {
     "name": "stdout",
     "output_type": "stream",
     "text": [
      "50.3021760483\n"
     ]
    }
   ],
   "source": [
    "from sklearn.naive_bayes import GaussianNB\n",
    "from sklearn.cross_validation import StratifiedKFold\n",
    "\n",
    "gnb = GaussianNB()\n",
    "k=2\n",
    "skf = StratifiedKFold(stars,n_folds=k)\n",
    "averageError = 0.0\n",
    "for train_index, test_index in skf:\n",
    "    xtrain, xtest = features[train_index], features[test_index]\n",
    "    ytrain, ytest = stars[train_index], stars[test_index]\n",
    "    gnb.fit(xtrain, ytrain)\n",
    "    pred = gnb.predict(xtest)\n",
    "    err = zero_one_loss(pred, ytest)\n",
    "    averageError += (1./k) * err\n",
    "print 100 * averageError"
   ]
  },
  {
   "cell_type": "code",
   "execution_count": 26,
   "metadata": {
    "collapsed": false
   },
   "outputs": [],
   "source": [
    "size = features.shape[0]\n",
    "\n",
    "test_idx = np.array(random.sample(range(0,size), size/10))\n",
    "xtest = features[test_idx]\n",
    "xtrain = features[[i for i in range(0,size) if i not in test_idx]]\n",
    "ytest = stars[test_idx]\n",
    "ytrain = stars[[i for i in range(0,size) if i not in test_idx]]"
   ]
  },
  {
   "cell_type": "code",
   "execution_count": 30,
   "metadata": {
    "collapsed": false
   },
   "outputs": [
    {
     "data": {
      "text/plain": [
       "0.34599999999999997"
      ]
     },
     "execution_count": 30,
     "metadata": {},
     "output_type": "execute_result"
    }
   ],
   "source": [
    "gnb.fit(xtrain, ytrain)\n",
    "pred = gnb.predict(xtest)\n",
    "#print np.array(pred)\n",
    "#print np.array(ytest)\n",
    "err = zero_one_loss(pred, ytest)\n",
    "#rmse = RMSE(np.array(pred), np.array(ytest))\n",
    "#print rmse\n",
    "#print err\n",
    "err"
   ]
  },
  {
   "cell_type": "code",
   "execution_count": 31,
   "metadata": {
    "collapsed": false
   },
   "outputs": [
    {
     "data": {
      "text/plain": [
       "0.24399999999999999"
      ]
     },
     "execution_count": 31,
     "metadata": {},
     "output_type": "execute_result"
    }
   ],
   "source": [
    "from sklearn.svm import SVC\n",
    "from sklearn.grid_search import GridSearchCV\n",
    "\n",
    "mod = SVC()\n",
    "parameters = {'kernel':('linear', 'rbf'), 'C':[1, 10]}\n",
    "svm = GridSearchCV(mod, parameters)\n",
    "svm.fit(xtrain, ytrain)\n",
    "\n",
    "pred = svm.predict(xtest)\n",
    "err = zero_one_loss(pred, ytest)\n",
    "err"
   ]
  },
  {
   "cell_type": "code",
   "execution_count": null,
   "metadata": {
    "collapsed": true
   },
   "outputs": [],
   "source": []
  }
 ],
 "metadata": {
  "kernelspec": {
   "display_name": "Python 2",
   "language": "python",
   "name": "python2"
  },
  "language_info": {
   "codemirror_mode": {
    "name": "ipython",
    "version": 2
   },
   "file_extension": ".py",
   "mimetype": "text/x-python",
   "name": "python",
   "nbconvert_exporter": "python",
   "pygments_lexer": "ipython2",
   "version": "2.7.11"
  }
 },
 "nbformat": 4,
 "nbformat_minor": 0
}
