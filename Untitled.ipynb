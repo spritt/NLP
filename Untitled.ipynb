{
 "cells": [
  {
   "cell_type": "code",
   "execution_count": 14,
   "metadata": {
    "collapsed": false
   },
   "outputs": [
    {
     "name": "stdout",
     "output_type": "stream",
     "text": [
      "                 business_id       date               review_id  stars  \\\n",
      "0     5UmKMjUEUNdYWqANhGckJw 2012-08-01  Ya85v4eqdd6k9Od8HbQjyA      4   \n",
      "1     5UmKMjUEUNdYWqANhGckJw 2014-02-13  KPvLNJ21_4wbYNctrOwWdQ      5   \n",
      "2     5UmKMjUEUNdYWqANhGckJw 2015-10-31  fFSoGV46Yxuwbr3fHNuZig      5   \n",
      "3     UsFtqoBl7naz8AVUBZMjQQ 2013-11-08  Di3exaUCFNw1V4kSNW5pgA      5   \n",
      "4     UsFtqoBl7naz8AVUBZMjQQ 2014-03-29  0Lua2-PbqEQMjD9r89-asw      3   \n",
      "5     UsFtqoBl7naz8AVUBZMjQQ 2014-10-29  7N9j5YbBHBW6qguE5DAeyA      1   \n",
      "6     UsFtqoBl7naz8AVUBZMjQQ 2014-11-28  mjCJR33jvUNt41iJCxDU_g      4   \n",
      "7     3eu6MEFlq2Dg7bQh8QbdOg 2014-02-27  Ieh3kfZ-5J9pLju4JiQDvQ      5   \n",
      "8     3eu6MEFlq2Dg7bQh8QbdOg 2015-06-16  PU28OoBSHpZLkYGCmNxlmg      5   \n",
      "9     cE27W9VPgO88Qxe4ol6y_g 2012-08-19  XsA6AojkWjOHA4FmuAb8XQ      3   \n",
      "10    cE27W9VPgO88Qxe4ol6y_g 2013-04-18  rkD7UDbQ9VM3Va6bI-eBHQ      1   \n",
      "11    cE27W9VPgO88Qxe4ol6y_g 2013-07-14  WExNE-f93SL4D1q8s9QWKg      1   \n",
      "12    cE27W9VPgO88Qxe4ol6y_g 2013-08-16  iS34GJhMkkt9kCoTJLYEwA      4   \n",
      "13    cE27W9VPgO88Qxe4ol6y_g 2014-07-11  S-G0D8Cy7PnqShoBZu8PCA      4   \n",
      "14    HZdLhv6COCleJMo7nPl-RA 2013-06-10  fBQ69-NU9ZyTjjS7Tb5tww      5   \n",
      "15    HZdLhv6COCleJMo7nPl-RA 2013-12-23  CFiLh7WvH7dM3qVZvNiacQ      2   \n",
      "16    HZdLhv6COCleJMo7nPl-RA 2014-09-04  UzMViMQZuSxOr5wrru3LwQ      4   \n",
      "17    HZdLhv6COCleJMo7nPl-RA 2015-05-06  OEopG9TyhSyyrTk2Uy5SZA      1   \n",
      "18    HZdLhv6COCleJMo7nPl-RA 2015-11-02  VXWdUDrVpBAvzaxnHpRUAw      1   \n",
      "19    mVHrayjG3uZ_RLHkLj-AMg 2012-12-01  6w6gMZ3iBLGcUM4RBIuifQ      5   \n",
      "20    mVHrayjG3uZ_RLHkLj-AMg 2013-03-15  jVVv_DA5mCDB6mediuwHAw      5   \n",
      "21    mVHrayjG3uZ_RLHkLj-AMg 2013-03-30  3Es8GsjkssusYgeU6_ZVpQ      5   \n",
      "22    mVHrayjG3uZ_RLHkLj-AMg 2013-10-20  KAkcn7oQP1xX8KsZ-XmktA      4   \n",
      "23    mVHrayjG3uZ_RLHkLj-AMg 2013-11-07  BZNJkkP0bXnwQ2-sCqat2Q      5   \n",
      "24    mVHrayjG3uZ_RLHkLj-AMg 2014-03-22  VDTIbR3G5_IPkpXbo2MutA      5   \n",
      "25    mVHrayjG3uZ_RLHkLj-AMg 2014-05-01  PY6nIMMLP2pqARlbIOJuRA      5   \n",
      "26    mVHrayjG3uZ_RLHkLj-AMg 2014-09-29  5uyYmniYyIB_wtKtyXDudQ      4   \n",
      "27    mVHrayjG3uZ_RLHkLj-AMg 2014-11-03  uf61rPucuICXhSPXlZ1hIQ      5   \n",
      "28    mVHrayjG3uZ_RLHkLj-AMg 2014-12-18  xY2gjy49dnpQSB2RTZzqCw      4   \n",
      "29    mVHrayjG3uZ_RLHkLj-AMg 2015-03-06  1W1vq7D1ofwFKbCA_GWu_A      5   \n",
      "...                      ...        ...                     ...    ...   \n",
      "4970  2X5G4Ujq0s4Wfn4TC7gX0g 2011-03-21  wexp_8aUuAGn1DJCmoG2dg      4   \n",
      "4971  2X5G4Ujq0s4Wfn4TC7gX0g 2011-03-27  oSoImNQJWWog_j3y8Ls1rQ      4   \n",
      "4972  2X5G4Ujq0s4Wfn4TC7gX0g 2011-04-01  XVPdsS_WrtLQr9Ks8_OlNg      5   \n",
      "4973  2X5G4Ujq0s4Wfn4TC7gX0g 2011-04-22  QK6U_yqd2BHibrmkfXBKqw      4   \n",
      "4974  2X5G4Ujq0s4Wfn4TC7gX0g 2011-05-24  l0H0bwHO1xMQXMVgKTxWqg      4   \n",
      "4975  2X5G4Ujq0s4Wfn4TC7gX0g 2011-05-30  W5k-kqZ4oxsP6ZIVZOE6VA      4   \n",
      "4976  2X5G4Ujq0s4Wfn4TC7gX0g 2011-07-17  IFl3R6B5BVeokBYx_haCyQ      4   \n",
      "4977  2X5G4Ujq0s4Wfn4TC7gX0g 2011-07-26  3jFRNZTtlOCrEAehGL1kyw      5   \n",
      "4978  2X5G4Ujq0s4Wfn4TC7gX0g 2011-08-15  mpGnJMrLrm0EPTIf-BMH9w      5   \n",
      "4979  2X5G4Ujq0s4Wfn4TC7gX0g 2011-08-22  UtEcROXelfH3pq1XwMw2cg      2   \n",
      "4980  2X5G4Ujq0s4Wfn4TC7gX0g 2011-09-03  YEt5RcgMjW_DYtfNtdF8jw      5   \n",
      "4981  2X5G4Ujq0s4Wfn4TC7gX0g 2011-09-14  HZ7pWUKD8PLGhShK2HZsdw      4   \n",
      "4982  2X5G4Ujq0s4Wfn4TC7gX0g 2011-09-27  Lya-L0aFOMoOrA9_LyCRIA      4   \n",
      "4983  2X5G4Ujq0s4Wfn4TC7gX0g 2011-10-12  m1jveChRLSQIvjrButFkSA      4   \n",
      "4984  2X5G4Ujq0s4Wfn4TC7gX0g 2011-11-04  fA8TtrhSrpJeEnNJguNW1w      4   \n",
      "4985  2X5G4Ujq0s4Wfn4TC7gX0g 2011-11-13  UbzHZ0qTJVu1aKmT8JdedA      4   \n",
      "4986  2X5G4Ujq0s4Wfn4TC7gX0g 2011-11-14  EJEWwTrLOScqZtFv7uC64Q      2   \n",
      "4987  2X5G4Ujq0s4Wfn4TC7gX0g 2011-11-26  _nEq5ohb0y2Wts_4r-MFVw      5   \n",
      "4988  2X5G4Ujq0s4Wfn4TC7gX0g 2011-12-06  zqChPtPBS0aPpwaO2wvRwA      4   \n",
      "4989  2X5G4Ujq0s4Wfn4TC7gX0g 2011-12-10  OGpcII1ErvXw_yBukqQ6UQ      3   \n",
      "4990  2X5G4Ujq0s4Wfn4TC7gX0g 2011-12-11  x_Jyz-hDvnxaZttG4q8vaA      4   \n",
      "4991  2X5G4Ujq0s4Wfn4TC7gX0g 2011-12-14  4VFgid3g8bkLmuOdcx_-OQ      4   \n",
      "4992  2X5G4Ujq0s4Wfn4TC7gX0g 2012-01-03  MhUQjW_3MmUXzxpQC3e0_Q      4   \n",
      "4993  2X5G4Ujq0s4Wfn4TC7gX0g 2012-01-05  iL8eaB8WeuajsCn1GPNUgg      5   \n",
      "4994  2X5G4Ujq0s4Wfn4TC7gX0g 2012-01-14  5jCDzH0lnG0AOkG8Jq0UdQ      5   \n",
      "4995  2X5G4Ujq0s4Wfn4TC7gX0g 2012-01-17  nb9LUen4Y6Lm4FA13wEIeQ      4   \n",
      "4996  2X5G4Ujq0s4Wfn4TC7gX0g 2012-01-21  UFUzEy7NfIBPeE3QkLgm3w      5   \n",
      "4997  2X5G4Ujq0s4Wfn4TC7gX0g 2012-01-28  3J8iiB4FtOI6RzvEZLy1eQ      4   \n",
      "4998  2X5G4Ujq0s4Wfn4TC7gX0g 2012-02-01  pXLXGHtYGpjCniLMUglsqA      4   \n",
      "4999  2X5G4Ujq0s4Wfn4TC7gX0g 2012-02-07  coCpCGZzopLrK0Gn18FUWA      5   \n",
      "\n",
      "                                                   text    type  \\\n",
      "0     Mr Hoagie is an institution. Walking in, it do...  review   \n",
      "1     Excellent food. Superb customer service. I mis...  review   \n",
      "2     Yes this place is a little out dated and not o...  review   \n",
      "3     All the food is great here. But the best thing...  review   \n",
      "4     We checked this place out this past Monday for...  review   \n",
      "5     Wing sauce is like water. Pretty much a lot of...  review   \n",
      "6     Cold cheap beer. Good bar food. Good service. ...  review   \n",
      "7     I highly recommend this place. The mechanics a...  review   \n",
      "8     I am a big believer in first impressions, so w...  review   \n",
      "9     Decent range somewhat close to the city.  The ...  review   \n",
      "10    Owning a driving range inside the city limits ...  review   \n",
      "11    This place is absolute garbage...  Half of the...  review   \n",
      "12    Before I finally made it over to this range I ...  review   \n",
      "13    I drove by yesterday to get a sneak peak.  It ...  review   \n",
      "14    THANK YOU ROB! i truly appreciated all the hel...  review   \n",
      "15    After waiting for almost 30 minutes to trade i...  review   \n",
      "16    I visited this store several months ago to sim...  review   \n",
      "17    My fiancé upgraded his phone at the Apple stor...  review   \n",
      "18    Waited over 45 mins, 2 people ahead of me and ...  review   \n",
      "19    This place was DELICIOUS!!  My parents saw a r...  review   \n",
      "20    Can't miss stop for the best Fish Sandwich in ...  review   \n",
      "21    This place should have a lot more reviews - bu...  review   \n",
      "22    This place was very good. I found out about Em...  review   \n",
      "23    Old school.....traditional \"mom 'n pop\" qualit...  review   \n",
      "24    Seen this restaurant on 25 best places in Pitt...  review   \n",
      "25    Like a lot of recent patrons, I heard about Em...  review   \n",
      "26    Wonderful reuben.  Map shown on Yelp page is i...  review   \n",
      "27    After a morning of Thrift Store hunting, a fri...  review   \n",
      "28    This is a hidden gem, no really. It took us fo...  review   \n",
      "29    From reading the other reviews, I see this pla...  review   \n",
      "...                                                 ...     ...   \n",
      "4970  This place is one of the reasons we decided to...  review   \n",
      "4971          Draft Belgian beer and a Mason Dixon dog.  review   \n",
      "4972  Sometimes I get these intense cravings to stuf...  review   \n",
      "4973  D's is just a great place to hang out. We bike...  review   \n",
      "4974  This place is pretty good! they serve a select...  review   \n",
      "4975  Love this local hot spot, also crowded and liv...  review   \n",
      "4976  D's has so many great things about it, it's ha...  review   \n",
      "4977  Enter into D's (after figuring out the correct...  review   \n",
      "4978                                        Beer cave!!  review   \n",
      "4979  I don't understand the hype for D's, although ...  review   \n",
      "4980  One of my favorites because it's so convenient...  review   \n",
      "4981  Local rootbeer is always a win, and the hotdog...  review   \n",
      "4982  I go here a lot.  I think most folks who live ...  review   \n",
      "4983  How have I not reviewed D's yet?? I moved away...  review   \n",
      "4984  D's quite possibly has the best beer selection...  review   \n",
      "4985  went here with a couple friends who live in Pi...  review   \n",
      "4986  Obviously the great rep of this place is their...  review   \n",
      "4987  Pittsburgh's very own \"Cheers\"\\n\\nI've lived i...  review   \n",
      "4988  Best burger and hot dog bar in town.  About 25...  review   \n",
      "4989  I'm a vegetarian and everything, but man, some...  review   \n",
      "4990  Service here is spotty at best, but the food k...  review   \n",
      "4991  D's, Oh D's.  What a fun place to hang out, wa...  review   \n",
      "4992  Sometimes the service here is hit or miss...th...  review   \n",
      "4993  Everyone is so nice, tons of different beers t...  review   \n",
      "4994  D's is a fantastic place with food! Reasonably...  review   \n",
      "4995  Amazing beer selection on tap as well as bottl...  review   \n",
      "4996  LOVE this place. Delicious hot dogs (I am loya...  review   \n",
      "4997  I am not huge on hot dogs or beer. However, I ...  review   \n",
      "4998  I have been to Pittsburgh several times in the...  review   \n",
      "4999  First off, even though McBrooms is the place t...  review   \n",
      "\n",
      "                     user_id                                    votes  \n",
      "0     PUFPaY9KxDAcGqfsorJp3Q  {u'funny': 0, u'useful': 0, u'cool': 0}  \n",
      "1     Iu6AxdBYGR4A0wspR9BYHA  {u'funny': 0, u'useful': 0, u'cool': 0}  \n",
      "2     auESFwWvW42h6alXgFxAXQ  {u'funny': 0, u'useful': 0, u'cool': 0}  \n",
      "3     uK8tzraOp4M5u3uYrqIBXg  {u'funny': 0, u'useful': 0, u'cool': 0}  \n",
      "4     I_47G-R2_egp7ME5u_ltew  {u'funny': 0, u'useful': 0, u'cool': 0}  \n",
      "5     PP_xoMSYlGr2pb67BbqBdA  {u'funny': 0, u'useful': 0, u'cool': 0}  \n",
      "6     JPPhyFE-UE453zA6K0TVgw  {u'funny': 0, u'useful': 0, u'cool': 0}  \n",
      "7     2d5HeDvZTDUNVog_WuUpSg  {u'funny': 0, u'useful': 0, u'cool': 0}  \n",
      "8     BShxMIUwaJS378xcrz4Nmg  {u'funny': 0, u'useful': 0, u'cool': 0}  \n",
      "9     fhNxoMwwTipzjO8A9LFe8Q  {u'funny': 0, u'useful': 1, u'cool': 0}  \n",
      "10    -6rEfobYjMxpUWLNxszaxQ  {u'funny': 0, u'useful': 1, u'cool': 0}  \n",
      "11    KZuaJtFindQM9x2ZoMBxcQ  {u'funny': 0, u'useful': 0, u'cool': 0}  \n",
      "12    H9E5VejGEsRhwcbOMFknmQ  {u'funny': 0, u'useful': 0, u'cool': 0}  \n",
      "13    ljwgUJowB69klaR8Au-H7g  {u'funny': 0, u'useful': 0, u'cool': 0}  \n",
      "14    JbAeIYc89Sk8SWmrBCJs9g  {u'funny': 3, u'useful': 7, u'cool': 7}  \n",
      "15    l_szjd-ken3ma6oHDkTYXg  {u'funny': 1, u'useful': 1, u'cool': 1}  \n",
      "16    zo_soThZw8eVglPbCRNC9A  {u'funny': 0, u'useful': 0, u'cool': 0}  \n",
      "17    4H-IfBDP5GkfNsQeHi4sHA  {u'funny': 0, u'useful': 0, u'cool': 0}  \n",
      "18    Qs5dcst13DnQJwaBcR4VGg  {u'funny': 1, u'useful': 1, u'cool': 1}  \n",
      "19    LWbYpcangjBMm4KPxZGOKg  {u'funny': 0, u'useful': 5, u'cool': 0}  \n",
      "20    m1FpV3EAeggaAdfPx0hBRQ  {u'funny': 0, u'useful': 0, u'cool': 0}  \n",
      "21    8fApIAMHn2MZJFUiCQto5Q  {u'funny': 0, u'useful': 3, u'cool': 1}  \n",
      "22    uK8tzraOp4M5u3uYrqIBXg  {u'funny': 0, u'useful': 1, u'cool': 0}  \n",
      "23    6wvlM5L4_EroGXbnb_92xQ  {u'funny': 0, u'useful': 0, u'cool': 0}  \n",
      "24    345nDw0oC-jOcglqxmzweQ  {u'funny': 0, u'useful': 2, u'cool': 1}  \n",
      "25    r1Uk-h_bddXb2ScCetoMPA  {u'funny': 0, u'useful': 0, u'cool': 0}  \n",
      "26    u9ULAsnYTdYH65Haj5LMSw  {u'funny': 0, u'useful': 0, u'cool': 0}  \n",
      "27    tAKjY3bQXH51msJbOHYPmQ  {u'funny': 0, u'useful': 3, u'cool': 1}  \n",
      "28    Kq8-FUG7d_MT2qRNiNBJnA  {u'funny': 0, u'useful': 0, u'cool': 0}  \n",
      "29    a0ULPTNi05w-BNVovVUz2w  {u'funny': 1, u'useful': 2, u'cool': 4}  \n",
      "...                      ...                                      ...  \n",
      "4970  cMlY-nsvj9DCrv_lLVp5Fg  {u'funny': 0, u'useful': 1, u'cool': 0}  \n",
      "4971  _ta-eVom-K35OpbtUKKW9A  {u'funny': 1, u'useful': 1, u'cool': 1}  \n",
      "4972  c7pBLYgkD3HOEY1IFXvf2w  {u'funny': 0, u'useful': 2, u'cool': 0}  \n",
      "4973  bZC1KXe6vw8k6REIVs-iuw  {u'funny': 0, u'useful': 1, u'cool': 0}  \n",
      "4974  QmykNasFdjyaQ3K8oME3fQ  {u'funny': 0, u'useful': 0, u'cool': 0}  \n",
      "4975  Ynt9QATr3tur66_OVQNCng  {u'funny': 0, u'useful': 1, u'cool': 0}  \n",
      "4976  FQ9WxmtoXqDFkrjDPMmGsg  {u'funny': 0, u'useful': 1, u'cool': 1}  \n",
      "4977  bEyGMTOF8gcAwjNz_qXv-w  {u'funny': 0, u'useful': 1, u'cool': 0}  \n",
      "4978  n7DOwcTqsJ5LGc_L9nr-Zg  {u'funny': 1, u'useful': 1, u'cool': 1}  \n",
      "4979  w-3fD-mTAo1GhOM43Oziig  {u'funny': 0, u'useful': 2, u'cool': 0}  \n",
      "4980  FixW3C_F5FXggMLZIZMOag  {u'funny': 0, u'useful': 0, u'cool': 0}  \n",
      "4981  2yAAeVQbhiMz9M-TgjB1GQ  {u'funny': 0, u'useful': 0, u'cool': 0}  \n",
      "4982  neBCZl1X_pDl11y7nVYFoQ  {u'funny': 0, u'useful': 0, u'cool': 0}  \n",
      "4983  9ifxQMJKNjXBrEpXxd4DSA  {u'funny': 0, u'useful': 2, u'cool': 0}  \n",
      "4984  ukrBUZXE5K1J57FI7ve_RQ  {u'funny': 0, u'useful': 0, u'cool': 0}  \n",
      "4985  kZ_OuSE-S8pIqJuVBRNnAA  {u'funny': 0, u'useful': 0, u'cool': 0}  \n",
      "4986  pztZ7aZtyx6Bp9O4-yic7w  {u'funny': 0, u'useful': 1, u'cool': 0}  \n",
      "4987  XKVQyJl_QuAhXSGxGGqtng  {u'funny': 0, u'useful': 1, u'cool': 1}  \n",
      "4988  ItGYwkiEodIICJh3lyoBjw  {u'funny': 0, u'useful': 0, u'cool': 0}  \n",
      "4989  F_cJy4K40H52DTTRLjPb-g  {u'funny': 0, u'useful': 0, u'cool': 0}  \n",
      "4990  ItGYwkiEodIICJh3lyoBjw  {u'funny': 0, u'useful': 0, u'cool': 0}  \n",
      "4991  9cCTmiJ7hz35rHIdr8n9kA  {u'funny': 0, u'useful': 2, u'cool': 1}  \n",
      "4992  6QhWTugzBJ3cdv2N4WZcSA  {u'funny': 0, u'useful': 2, u'cool': 1}  \n",
      "4993  2f1mQmnvC5d_ijpH2B-PWg  {u'funny': 0, u'useful': 0, u'cool': 0}  \n",
      "4994  lW7fTFAwglpa7i3HPBsKHQ  {u'funny': 0, u'useful': 0, u'cool': 1}  \n",
      "4995  ukb04UfxSSQJfE9R7BHD2Q  {u'funny': 0, u'useful': 0, u'cool': 0}  \n",
      "4996  V9stMNThQQGLY1Ba7kfqQw  {u'funny': 0, u'useful': 1, u'cool': 0}  \n",
      "4997  iSJLdur495--oPDE0b1Vpw  {u'funny': 0, u'useful': 1, u'cool': 0}  \n",
      "4998  -i-b5p4gO0hXzqfqyCDA4Q  {u'funny': 0, u'useful': 1, u'cool': 0}  \n",
      "4999  EYHViToSd9S_IDQ8IrNPIA  {u'funny': 0, u'useful': 0, u'cool': 0}  \n",
      "\n",
      "[5000 rows x 8 columns]\n"
     ]
    }
   ],
   "source": [
    "import json\n",
    "import numpy as np\n",
    "import pandas as pd\n",
    "import random\n",
    "import scipy.stats as stats\n",
    "\n",
    "from sklearn.metrics import zero_one_loss\n",
    "from sklearn.feature_extraction.text import CountVectorizer\n",
    "from sklearn.cross_validation import StratifiedKFold\n",
    "\n",
    "#with open('yelp_academic_dataset_review_mini.json') as f:\n",
    "#    reviews = [json.loads(line) for line in f]\n",
    "with open('yelp_academic_dataset_review_mini.json', 'rb') as f:\n",
    "    reviews = f.readlines()\n",
    "data_json_sep = map(lambda x: x.rstrip(), reviews)\n",
    "data_json = \"[\" + ','.join(data_json_sep) + \"]\"\n",
    "data = pd.read_json(data_json)\n",
    "\n",
    "stars = data['stars']\n",
    "text = data['text']"
   ]
  },
  {
   "cell_type": "code",
   "execution_count": 7,
   "metadata": {
    "collapsed": true
   },
   "outputs": [],
   "source": [
    "def RMSE(pre, act):\n",
    "    return np.sqrt(((pre - act) ** 2).mean())\n",
    "\n",
    "def rSquared(pre, act):\n",
    "    return 1 - sum((pre - act)**2) / sum((act - act.mean())**2)"
   ]
  },
  {
   "cell_type": "code",
   "execution_count": 2,
   "metadata": {
    "collapsed": false
   },
   "outputs": [
    {
     "data": {
      "text/plain": [
       "(5000, 85)"
      ]
     },
     "execution_count": 2,
     "metadata": {},
     "output_type": "execute_result"
    }
   ],
   "source": [
    "import nltk, re\n",
    "def tokenize(text):\n",
    "    # remove non letters\n",
    "    text = re.sub(\"[^a-zA-Z]\", \" \", text)\n",
    "    # tokenize\n",
    "    tokens = nltk.word_tokenize(text)\n",
    "    return tokens\n",
    "\n",
    "basic_vectorizer = CountVectorizer(min_df=1, ngram_range=(1, 2), tokenizer=tokenize, stop_words='english', max_features=85)\n",
    "vector = basic_vectorizer.fit_transform(text).toarray()\n",
    "vector.shape"
   ]
  },
  {
   "cell_type": "code",
   "execution_count": 3,
   "metadata": {
    "collapsed": false
   },
   "outputs": [],
   "source": [
    "size = vector.shape[0]\n",
    "\n",
    "test_idx = np.array(random.sample(range(0,size), size/10))\n",
    "xtest = vector[test_idx]\n",
    "xtrain = vector[[i for i in range(0,size) if i not in test_idx]]\n",
    "ytest = stars[test_idx]\n",
    "ytrain = stars[[i for i in range(0,size) if i not in test_idx]]"
   ]
  },
  {
   "cell_type": "code",
   "execution_count": 4,
   "metadata": {
    "collapsed": false
   },
   "outputs": [
    {
     "name": "stdout",
     "output_type": "stream",
     "text": [
      "59.9599743744\n"
     ]
    }
   ],
   "source": [
    "from sklearn.naive_bayes import GaussianNB\n",
    "from sklearn.cross_validation import StratifiedKFold\n",
    "\n",
    "gnb = GaussianNB()\n",
    "k=2\n",
    "skf = StratifiedKFold(stars,n_folds=k)\n",
    "averageError = 0.0\n",
    "for train_index, test_index in skf:\n",
    "    xtrain, xtest = vector[train_index], vector[test_index]\n",
    "    ytrain, ytest = stars[train_index], stars[test_index]\n",
    "    gnb.fit(xtrain, ytrain)\n",
    "    pred = gnb.predict(xtest)\n",
    "    err = zero_one_loss(pred, ytest)\n",
    "    averageError += (1./k) * err\n",
    "print 100 * averageError"
   ]
  },
  {
   "cell_type": "code",
   "execution_count": 13,
   "metadata": {
    "collapsed": false
   },
   "outputs": [
    {
     "name": "stdout",
     "output_type": "stream",
     "text": [
      "[2 2 3 ..., 4 4 4]\n",
      "[2 2 2 ..., 4 4 5]\n",
      "1.55200740384\n",
      "0.599279423539\n"
     ]
    }
   ],
   "source": [
    "gnb.fit(xtrain, ytrain)\n",
    "pred = gnb.predict(xtest)\n",
    "print np.array(pred)\n",
    "print np.array(ytest)\n",
    "err = zero_one_loss(pred, ytest)\n",
    "rmse = RMSE(np.array(pred), np.array(ytest))\n",
    "print rmse\n",
    "print err"
   ]
  },
  {
   "cell_type": "code",
   "execution_count": 6,
   "metadata": {
    "collapsed": false
   },
   "outputs": [
    {
     "data": {
      "text/plain": [
       "0.58086469175340272"
      ]
     },
     "execution_count": 6,
     "metadata": {},
     "output_type": "execute_result"
    }
   ],
   "source": [
    "from sklearn.svm import SVC\n",
    "from sklearn.grid_search import GridSearchCV\n",
    "\n",
    "mod = SVC()\n",
    "parameters = {'kernel':('linear', 'rbf'), 'C':[1, 10]}\n",
    "svm = GridSearchCV(mod, parameters)\n",
    "svm.fit(xtrain, ytrain)\n",
    "\n",
    "pred = svm.predict(xtest)\n",
    "err = zero_one_loss(pred, ytest)\n",
    "err"
   ]
  },
  {
   "cell_type": "code",
   "execution_count": null,
   "metadata": {
    "collapsed": true
   },
   "outputs": [],
   "source": []
  }
 ],
 "metadata": {
  "kernelspec": {
   "display_name": "Python 2",
   "language": "python",
   "name": "python2"
  },
  "language_info": {
   "codemirror_mode": {
    "name": "ipython",
    "version": 2
   },
   "file_extension": ".py",
   "mimetype": "text/x-python",
   "name": "python",
   "nbconvert_exporter": "python",
   "pygments_lexer": "ipython2",
   "version": "2.7.11"
  }
 },
 "nbformat": 4,
 "nbformat_minor": 0
}
